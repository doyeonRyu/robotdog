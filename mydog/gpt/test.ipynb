{
 "cells": [
  {
   "cell_type": "code",
   "execution_count": 5,
   "id": "b387771d",
   "metadata": {},
   "outputs": [],
   "source": [
    "import os\n",
    "file_path = 'img/pidog_img.jpg'\n",
    "# file_path가 실제로 존재하느지 확인\n",
    "if not os.path.exists(file_path):\n",
    "    print(f\"[WARN] file not found: {file_path}\")"
   ]
  }
 ],
 "metadata": {
  "kernelspec": {
   "display_name": "robotdog",
   "language": "python",
   "name": "python3"
  },
  "language_info": {
   "codemirror_mode": {
    "name": "ipython",
    "version": 3
   },
   "file_extension": ".py",
   "mimetype": "text/x-python",
   "name": "python",
   "nbconvert_exporter": "python",
   "pygments_lexer": "ipython3",
   "version": "3.11.13"
  }
 },
 "nbformat": 4,
 "nbformat_minor": 5
}
